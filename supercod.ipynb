{
 "cells": [
  {
   "cell_type": "code",
   "execution_count": 1,
   "metadata": {},
   "outputs": [],
   "source": [
    "# Required imports\n",
    "\n",
    "from qiskit import QuantumCircuit, QuantumRegister, ClassicalRegister\n",
    "from qiskit_aer.primitives import Sampler\n",
    "from qiskit_aer import AerSimulator\n",
    "from qiskit.visualization import plot_histogram\n",
    "import matplotlib.pyplot as plt"
   ]
  },
  {
   "cell_type": "code",
   "execution_count": 2,
   "metadata": {},
   "outputs": [],
   "source": [
    "c = \"1\"\n",
    "d = \"0\""
   ]
  },
  {
   "cell_type": "code",
   "execution_count": 3,
   "metadata": {},
   "outputs": [
    {
     "data": {
      "text/html": [
       "<pre style=\"word-wrap: normal;white-space: pre;background: #fff0;line-height: 1.1;font-family: &quot;Courier New&quot;,Courier,monospace\">        ┌───┐      ░ ┌───┐ ░      ┌───┐ ░ ┌─┐   \n",
       "   q_0: ┤ H ├──■───░─┤ X ├─░───■──┤ H ├─░─┤M├───\n",
       "        └───┘┌─┴─┐ ░ └───┘ ░ ┌─┴─┐└───┘ ░ └╥┘┌─┐\n",
       "   q_1: ─────┤ X ├─░───────░─┤ X ├──────░──╫─┤M├\n",
       "             └───┘ ░       ░ └───┘      ░  ║ └╥┘\n",
       "meas: 2/═══════════════════════════════════╩══╩═\n",
       "                                           0  1 </pre>"
      ],
      "text/plain": [
       "        ┌───┐      ░ ┌───┐ ░      ┌───┐ ░ ┌─┐   \n",
       "   q_0: ┤ H ├──■───░─┤ X ├─░───■──┤ H ├─░─┤M├───\n",
       "        └───┘┌─┴─┐ ░ └───┘ ░ ┌─┴─┐└───┘ ░ └╥┘┌─┐\n",
       "   q_1: ─────┤ X ├─░───────░─┤ X ├──────░──╫─┤M├\n",
       "             └───┘ ░       ░ └───┘      ░  ║ └╥┘\n",
       "meas: 2/═══════════════════════════════════╩══╩═\n",
       "                                           0  1 "
      ]
     },
     "metadata": {},
     "output_type": "display_data"
    }
   ],
   "source": [
    "protocol = QuantumCircuit(2)\n",
    "\n",
    "# Prepare ebit used for superdense coding\n",
    "protocol.h(0)\n",
    "protocol.cx(0, 1)\n",
    "protocol.barrier()\n",
    "\n",
    "# Alice's operations\n",
    "if d == \"1\":\n",
    "    protocol.z(0)\n",
    "if c == \"1\":\n",
    "    protocol.x(0)\n",
    "protocol.barrier()\n",
    "\n",
    "# Bob's actions\n",
    "protocol.cx(0, 1)\n",
    "protocol.h(0)\n",
    "protocol.measure_all()\n",
    "\n",
    "display(protocol.draw())"
   ]
  },
  {
   "cell_type": "code",
   "execution_count": 5,
   "metadata": {},
   "outputs": [
    {
     "data": {
      "text/html": [
       "<pre style=\"word-wrap: normal;white-space: pre;background: #fff0;line-height: 1.1;font-family: &quot;Courier New&quot;,Courier,monospace\">                       ░ ┌───┐┌─┐┌───┐┌─┐ ░                                »\n",
       "randomizer: ───────────░─┤ H ├┤M├┤ H ├┤M├─░────────────────────────────────»\n",
       "            ┌───┐      ░ └───┘└╥┘└───┘└╥┘ ░ ┌────── ┌───┐ ───────┐ ┌────── »\n",
       "         A: ┤ H ├──■───░───────╫───────╫──░─┤ If-0  ┤ Z ├  End-0 ├─┤ If-0  »\n",
       "            └───┘┌─┴─┐ ░       ║       ║  ░ └──╥─── └───┘ ───────┘ └──╥─── »\n",
       "         B: ─────┤ X ├─░───────╫───────╫──░────╫──────────────────────╫────»\n",
       "                 └───┘ ░       ║       ║  ░ ┌──╨──┐                   ║    »\n",
       " Alice d: 1/═══════════════════╬═══════╩════╡ 0x1 ╞═══════════════════╬════»\n",
       "                               ║       0    └─────┘                ┌──╨──┐ »\n",
       " Alice c: 1/═══════════════════╩═══════════════════════════════════╡ 0x1 ╞═»\n",
       "                               0                                   └─────┘ »\n",
       "   Bob d: 1/═══════════════════════════════════════════════════════════════»\n",
       "                                                                           »\n",
       "   Bob c: 1/═══════════════════════════════════════════════════════════════»\n",
       "                                                                           »\n",
       "«                            ░            ░       \n",
       "«randomizer: ────────────────░────────────░───────\n",
       "«            ┌───┐ ───────┐  ░      ┌───┐ ░ ┌─┐   \n",
       "«         A: ┤ X ├  End-0 ├──░───■──┤ H ├─░─┤M├───\n",
       "«            └───┘ ───────┘  ░ ┌─┴─┐└───┘ ░ └╥┘┌─┐\n",
       "«         B: ────────────────░─┤ X ├──────░──╫─┤M├\n",
       "«                            ░ └───┘      ░  ║ └╥┘\n",
       "« Alice d: 1/════════════════════════════════╬══╬═\n",
       "«                                            ║  ║ \n",
       "« Alice c: 1/════════════════════════════════╬══╬═\n",
       "«                                            ║  ║ \n",
       "«   Bob d: 1/════════════════════════════════╩══╬═\n",
       "«                                            0  ║ \n",
       "«   Bob c: 1/═══════════════════════════════════╩═\n",
       "«                                               0 </pre>"
      ],
      "text/plain": [
       "                       ░ ┌───┐┌─┐┌───┐┌─┐ ░                                »\n",
       "randomizer: ───────────░─┤ H ├┤M├┤ H ├┤M├─░────────────────────────────────»\n",
       "            ┌───┐      ░ └───┘└╥┘└───┘└╥┘ ░ ┌────── ┌───┐ ───────┐ ┌────── »\n",
       "         A: ┤ H ├──■───░───────╫───────╫──░─┤ If-0  ┤ Z ├  End-0 ├─┤ If-0  »\n",
       "            └───┘┌─┴─┐ ░       ║       ║  ░ └──╥─── └───┘ ───────┘ └──╥─── »\n",
       "         B: ─────┤ X ├─░───────╫───────╫──░────╫──────────────────────╫────»\n",
       "                 └───┘ ░       ║       ║  ░ ┌──╨──┐                   ║    »\n",
       " Alice d: 1/═══════════════════╬═══════╩════╡ 0x1 ╞═══════════════════╬════»\n",
       "                               ║       0    └─────┘                ┌──╨──┐ »\n",
       " Alice c: 1/═══════════════════╩═══════════════════════════════════╡ 0x1 ╞═»\n",
       "                               0                                   └─────┘ »\n",
       "   Bob d: 1/═══════════════════════════════════════════════════════════════»\n",
       "                                                                           »\n",
       "   Bob c: 1/═══════════════════════════════════════════════════════════════»\n",
       "                                                                           »\n",
       "«                            ░            ░       \n",
       "«randomizer: ────────────────░────────────░───────\n",
       "«            ┌───┐ ───────┐  ░      ┌───┐ ░ ┌─┐   \n",
       "«         A: ┤ X ├  End-0 ├──░───■──┤ H ├─░─┤M├───\n",
       "«            └───┘ ───────┘  ░ ┌─┴─┐└───┘ ░ └╥┘┌─┐\n",
       "«         B: ────────────────░─┤ X ├──────░──╫─┤M├\n",
       "«                            ░ └───┘      ░  ║ └╥┘\n",
       "« Alice d: 1/════════════════════════════════╬══╬═\n",
       "«                                            ║  ║ \n",
       "« Alice c: 1/════════════════════════════════╬══╬═\n",
       "«                                            ║  ║ \n",
       "«   Bob d: 1/════════════════════════════════╩══╬═\n",
       "«                                            0  ║ \n",
       "«   Bob c: 1/═══════════════════════════════════╩═\n",
       "«                                               0 "
      ]
     },
     "metadata": {},
     "output_type": "display_data"
    }
   ],
   "source": [
    "rbg = QuantumRegister(1, \"randomizer\")\n",
    "ebit0 = QuantumRegister(1, \"A\")\n",
    "ebit1 = QuantumRegister(1, \"B\")\n",
    "\n",
    "Alice_c = ClassicalRegister(1, \"Alice c\")\n",
    "Alice_d = ClassicalRegister(1, \"Alice d\")\n",
    "\n",
    "test = QuantumCircuit(rbg, ebit0, ebit1, Alice_d, Alice_c)\n",
    "\n",
    "# Initialize the ebit\n",
    "test.h(ebit0)\n",
    "test.cx(ebit0, ebit1)\n",
    "test.barrier()\n",
    "\n",
    "# Use the 'randomizer' qubit twice to generate Alice's bits c and d.\n",
    "test.h(rbg)\n",
    "test.measure(rbg, Alice_c)\n",
    "test.h(rbg)\n",
    "test.measure(rbg, Alice_d)\n",
    "test.barrier()\n",
    "\n",
    "# Now the protocol runs, starting with Alice's actions, which depend\n",
    "# on her bits.\n",
    "with test.if_test((Alice_d, 1), label=\"Z\"):\n",
    "    test.z(ebit0)\n",
    "with test.if_test((Alice_c, 1), label=\"X\"):\n",
    "    test.x(ebit0)\n",
    "test.barrier()\n",
    "\n",
    "# Bob's actions\n",
    "test.cx(ebit0, ebit1)\n",
    "test.h(ebit0)\n",
    "test.barrier()\n",
    "\n",
    "Bob_c = ClassicalRegister(1, \"Bob c\")\n",
    "Bob_d = ClassicalRegister(1, \"Bob d\")\n",
    "test.add_register(Bob_d)\n",
    "test.add_register(Bob_c)\n",
    "test.measure(ebit0, Bob_d)\n",
    "test.measure(ebit1, Bob_c)\n",
    "\n",
    "display(test.draw())"
   ]
  },
  {
   "cell_type": "code",
   "execution_count": 6,
   "metadata": {},
   "outputs": [
    {
     "data": {
      "image/png": "[encoded data removed]",
      "text/plain": [
       "<Figure size 640x480 with 1 Axes>"
      ]
     },
     "metadata": {},
     "output_type": "display_data"
    }
   ],
   "source": [
    "result = AerSimulator().run(test).result()\n",
    "statistics = result.get_counts()\n",
    "display(plot_histogram(statistics))"
   ]
  }
 ],
 "metadata": {
  "kernelspec": {
   "display_name": "qiskit_env",
   "language": "python",
   "name": "python3"
  },
  "language_info": {
   "codemirror_mode": {
    "name": "ipython",
    "version": 3
   },
   "file_extension": ".py",
   "mimetype": "text/x-python",
   "name": "python",
   "nbconvert_exporter": "python",
   "pygments_lexer": "ipython3",
   "version": "3.8.19"
  }
 },
 "nbformat": 4,
 "nbformat_minor": 2
}
